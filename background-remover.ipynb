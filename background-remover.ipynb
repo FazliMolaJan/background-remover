{
 "cells": [
  {
   "cell_type": "code",
   "execution_count": null,
   "metadata": {
    "scrolled": false
   },
   "outputs": [],
   "source": [
    "!wget http://images.cocodataset.org/zips/train2017.zip data/\n",
    "!wget http://images.cocodataset.org/zips/val2017.zip data/\n",
    "!wget http://images.cocodataset.org/zips/test2017.zip data/"
   ]
  },
  {
   "cell_type": "code",
   "execution_count": null,
   "metadata": {
    "scrolled": true
   },
   "outputs": [],
   "source": [
    "!unzip train2017.zip\n",
    "!unzip val2017.zip\n",
    "!unzip test2017.zip"
   ]
  },
  {
   "cell_type": "code",
   "execution_count": null,
   "metadata": {},
   "outputs": [],
   "source": [
    "!wget http://images.cocodataset.org/annotations/annotations_trainval2017.zip\n",
    "!unzip annotations_trainval2017.zip"
   ]
  },
  {
   "cell_type": "code",
   "execution_count": null,
   "metadata": {},
   "outputs": [],
   "source": [
    "from pycocotools.coco import COCO"
   ]
  },
  {
   "cell_type": "code",
   "execution_count": null,
   "metadata": {},
   "outputs": [],
   "source": [
    "# annotations/instancesfree\n",
    "# {dataset}2017.json\n",
    "path = \"annotations/instances_train2017.json\"\n",
    "data = COCO(path)"
   ]
  },
  {
   "cell_type": "code",
   "execution_count": null,
   "metadata": {},
   "outputs": [],
   "source": [
    "import numpy as np\n",
    "import cv2\n",
    "from os.path import join"
   ]
  },
  {
   "cell_type": "code",
   "execution_count": null,
   "metadata": {
    "scrolled": true
   },
   "outputs": [],
   "source": [
    "i = 0\n",
    "images, masks = [], []\n",
    "for imgId in data.getImgIds():\n",
    "    \n",
    "    img = data.loadImgs(imgId)[0]\n",
    "    \n",
    "    valid = False\n",
    "    anns = data.loadAnns(data.getAnnIds(imgId))\n",
    "\n",
    "    mask = np.zeros((img[\"height\"], img[\"width\"]), dtype=np.byte)\n",
    "    for ann in anns:\n",
    "        \n",
    "        # category id of person is 1\n",
    "        if ann[\"category_id\"] == 1:\n",
    "            seg = data.annToMask(ann)\n",
    "            mask += seg\n",
    "            valid = True\n",
    "    \n",
    "    # if contains person\n",
    "    if valid:\n",
    "        \n",
    "        file_name = img[\"file_name\"]\n",
    "        # {dataset}2017\n",
    "        frame = cv2.imread(join(\"train2017\", file_name))\n",
    "        # frames/{dataset}\n",
    "        cv2.imwrite(join(\"data/frames/train\", file_name), frame)\n",
    "        # masks/{dataset}\n",
    "        cv2.imwrite(join(\"data/masks/train\", file_name), mask)\n",
    "        i += 1"
   ]
  },
  {
   "cell_type": "code",
   "execution_count": null,
   "metadata": {},
   "outputs": [],
   "source": [
    "!ls -l data/frames/train | wc -l"
   ]
  },
  {
   "cell_type": "code",
   "execution_count": null,
   "metadata": {},
   "outputs": [],
   "source": [
    "# input image shape\n",
    "img_shape = (256, 256)\n",
    "batch_size = 16\n",
    "n_train = 500 * batch_size\n",
    "n_val = 100 * batch_size"
   ]
  },
  {
   "cell_type": "code",
   "execution_count": null,
   "metadata": {},
   "outputs": [],
   "source": [
    "import cv2\n",
    "import glob\n",
    "from os.path import join, expanduser\n",
    "import numpy as np"
   ]
  },
  {
   "cell_type": "code",
   "execution_count": null,
   "metadata": {},
   "outputs": [],
   "source": [
    "# this handles all requests for data\n",
    "class generator:\n",
    "    \n",
    "    def __init__(self, frames_dir, masks_dir, img_shape, n_data=None, start=0):\n",
    "        \n",
    "        frames_path = glob.glob(join(frames_dir, \"*.jpg\"))\n",
    "        self.frames_path = sorted(frames_path, key=lambda path: int(path.split('/')[-1].split('.')[0]))\n",
    "        \n",
    "        if masks_dir is None:\n",
    "            self.masks_path = [\"\"] * len(frames_path)\n",
    "        else:\n",
    "            masks_path = glob.glob(join(masks_dir, \"*.jpg\"))\n",
    "            self.masks_path = sorted(masks_path, key=lambda path: int(path.split('/')[-1].split('.')[0]))\n",
    "        \n",
    "        # use all samples\n",
    "        if n_data is None:\n",
    "            n_data = len(frames_path)\n",
    "        self.n_data = n_data\n",
    "        \n",
    "        self.img_shape = img_shape\n",
    "        # used for shuffling\n",
    "        self.order = np.arange(n_data) + start\n",
    "        \n",
    "    def __getitem__(self, key):\n",
    "        \n",
    "        if isinstance(key, slice):\n",
    "            start, stop, step = key.indices(self.n_data)\n",
    "            frames, masks = [], []\n",
    "            \n",
    "            for i in range(start, stop):\n",
    "                frame, mask = self.get_data(\n",
    "                    self.frames_path[self.order[i]], self.masks_path[self.order[i]]\n",
    "                )\n",
    "                frames.append(frame)\n",
    "                masks.append(mask)\n",
    "                \n",
    "            return np.array(frames), np.array(masks)\n",
    "        else:\n",
    "            return self.get_data(\n",
    "                self.frames_path[self.order[key]], self.masks_path[self.order[key]]\n",
    "            )\n",
    "    \n",
    "    def __len__(self):\n",
    "        return self.n_data\n",
    "    \n",
    "    def get_data(self, frame_path, mask_path):\n",
    "        \n",
    "        frame = cv2.imread(frame_path).astype(np.float32)\n",
    "        mask = cv2.imread(mask_path)\n",
    "        if mask is not None:\n",
    "            mask = mask.astype(np.float32)[:,:,:1]\n",
    "        \n",
    "        return frame, mask\n",
    "    \n",
    "    def iterator(self, batch_size=None, shuffle=False):\n",
    "        \n",
    "        if batch_size is None :\n",
    "            batch_size = self.n_data\n",
    "        \n",
    "        base = 0\n",
    "        while True:\n",
    "            \n",
    "            if shuffle and base == 0:\n",
    "                np.random.shuffle(self.order)\n",
    "            \n",
    "            # yield makes function iterateble\n",
    "            yield self[base:base + batch_size]\n",
    "\n",
    "            base += batch_size\n",
    "            # ensure the iterator runs forever\n",
    "            if base + batch_size > self.n_data:\n",
    "                base = 0"
   ]
  },
  {
   "cell_type": "code",
   "execution_count": null,
   "metadata": {},
   "outputs": [],
   "source": [
    "train_frames_path = \"data-256/frames/train\"\n",
    "train_masks_path = \"data-256/masks/train\"\n",
    "train_generator = generator(\n",
    "    train_frames_path, \n",
    "    train_masks_path, \n",
    "    img_shape, \n",
    "    n_train\n",
    ")\n",
    "\n",
    "val_frames_path = \"data-256/frames/val\"\n",
    "val_masks_path = \"data-256/masks/val\"\n",
    "val_generator = generator(\n",
    "    val_frames_path, \n",
    "    val_masks_path, \n",
    "    img_shape, \n",
    "    n_val\n",
    ")"
   ]
  },
  {
   "cell_type": "code",
   "execution_count": null,
   "metadata": {},
   "outputs": [],
   "source": [
    "import matplotlib.pyplot as plt"
   ]
  },
  {
   "cell_type": "code",
   "execution_count": null,
   "metadata": {},
   "outputs": [],
   "source": [
    "frame, mask = train_generator[0]\n",
    "frame = frame.astype(np.int32)\n",
    "mask = mask.astype(np.int32)\n",
    "\n",
    "plt.figure(figsize=(10, 5))\n",
    "\n",
    "plt.subplot(1, 2, 1)\n",
    "# cv2 read image in BGR mode\n",
    "plt.imshow(frame[:,:,::-1])\n",
    "\n",
    "plt.xticks([])\n",
    "plt.yticks([])\n",
    "\n",
    "plt.subplot(1, 2, 2)\n",
    "plt.imshow(mask[:,:,0])\n",
    "\n",
    "plt.xticks([])\n",
    "plt.yticks([])\n",
    "\n",
    "plt.show()"
   ]
  },
  {
   "cell_type": "code",
   "execution_count": null,
   "metadata": {
    "scrolled": true
   },
   "outputs": [],
   "source": [
    "import segmentation_models as sm\n",
    "import keras\n",
    "\n",
    "model = sm.Unet(\"resnet34\", input_shape=img_shape + (3, ))\n",
    "\n",
    "optimizer = keras.optimizers.Adam(1e-4)\n",
    "loss = sm.losses.bce_jaccard_loss\n",
    "metrics = [sm.metrics.iou_score]\n",
    "\n",
    "model.compile(optimizer, loss,  metrics)\n",
    "model.summary()"
   ]
  },
  {
   "cell_type": "code",
   "execution_count": null,
   "metadata": {},
   "outputs": [],
   "source": [
    "callbacks = [\n",
    "    keras.callbacks.ModelCheckpoint(\"./best-unet.h5\", \n",
    "        save_weights_only=True, \n",
    "        save_best_only=True, \n",
    "        mode=\"min\"\n",
    "    ), \n",
    "    keras.callbacks.ReduceLROnPlateau()\n",
    "]\n",
    "\n",
    "train_iter = train_generator.iterator(batch_size, True)\n",
    "val_iter = val_generator.iterator(batch_size, True)"
   ]
  },
  {
   "cell_type": "code",
   "execution_count": null,
   "metadata": {
    "scrolled": true
   },
   "outputs": [],
   "source": [
    "history = model.fit_generator(\n",
    "    train_iter, \n",
    "    steps_per_epoch=len(train_generator) / batch_size, \n",
    "    epochs=30, \n",
    "    callbacks=callbacks, \n",
    "    validation_data=val_iter, \n",
    "    validation_steps=len(val_generator) / batch_size\n",
    ")\n",
    "\n",
    "model.save_weights(\"./last-unet.h5\")"
   ]
  },
  {
   "cell_type": "code",
   "execution_count": null,
   "metadata": {},
   "outputs": [],
   "source": [
    "val_loss, val_iou_score = model.evaluate_generator(\n",
    "    val_iter, \n",
    "    steps=n_val / batch_size\n",
    ")\n",
    "print(f\"val_loss: {val_loss:1.4f} - val_iou_score: {val_iou_score:1.4f}\")"
   ]
  },
  {
   "cell_type": "code",
   "execution_count": null,
   "metadata": {},
   "outputs": [],
   "source": [
    "# plot training and validation iou_score values\n",
    "plt.figure(figsize=(10, 5))\n",
    "plt.subplot(1, 2, 1)\n",
    "plt.plot(history.history['iou_score'])\n",
    "plt.plot(history.history['val_iou_score'])\n",
    "plt.title('Model iou_score')\n",
    "plt.ylabel('iou_score')\n",
    "plt.xlabel('Epoch')\n",
    "plt.legend(['Train', 'Val'], loc='upper left')\n",
    "\n",
    "# Plot training and validation loss values\n",
    "plt.subplot(1, 2, 2)\n",
    "plt.plot(history.history['loss'])\n",
    "plt.plot(history.history['val_loss'])\n",
    "plt.title('Model loss')\n",
    "plt.ylabel('Loss')\n",
    "plt.xlabel('Epoch')\n",
    "plt.legend(['Train', 'Val'], loc='upper left')\n",
    "plt.show()"
   ]
  },
  {
   "cell_type": "code",
   "execution_count": null,
   "metadata": {},
   "outputs": [],
   "source": [
    "n_test = 1000\n",
    "n_show = 3\n",
    "\n",
    "# there is no annotations for test dataset, \n",
    "# so we split val dataset into validation and test\n",
    "test_generator = generator(\n",
    "    val_frames_path, \n",
    "    val_masks_path, \n",
    "    img_shape, \n",
    "    n_test, \n",
    "    n_val\n",
    ")\n",
    "test_iter = test_generator.iterator(n_show, True)"
   ]
  },
  {
   "cell_type": "code",
   "execution_count": null,
   "metadata": {},
   "outputs": [],
   "source": [
    "frames, _ = next(test_iter)\n",
    "frames = frames.astype(np.int32)\n",
    "res = model.predict(frames)\n",
    "\n",
    "n_show = 3\n",
    "plt.figure(figsize=(10, 5 * n_show))\n",
    "\n",
    "for i in range(n_show):\n",
    "\n",
    "    frame = frames[i][:,:,::-1]\n",
    "    \n",
    "    plt.subplot(n_show, 2, i * 2 + 1)\n",
    "    plt.imshow(frame)\n",
    "    \n",
    "    plt.xticks([])\n",
    "    plt.yticks([])\n",
    "\n",
    "    # convert mask into three-chennel image\n",
    "    mask = np.repeat(res[i], 3, axis=2)\n",
    "    # set average value as treshold to cut off the foreground\n",
    "    frame[mask < 0.5] *= 0\n",
    "\n",
    "    plt.subplot(n_show, 2, i * 2 + 2)\n",
    "    plt.imshow(frame)\n",
    "    \n",
    "    plt.xticks([])\n",
    "    plt.yticks([])\n",
    "    \n",
    "plt.show()"
   ]
  }
 ],
 "metadata": {
  "kernelspec": {
   "display_name": "Python 3",
   "language": "python",
   "name": "python3"
  },
  "language_info": {
   "codemirror_mode": {
    "name": "ipython",
    "version": 3
   },
   "file_extension": ".py",
   "mimetype": "text/x-python",
   "name": "python",
   "nbconvert_exporter": "python",
   "pygments_lexer": "ipython3",
   "version": "3.7.4"
  }
 },
 "nbformat": 4,
 "nbformat_minor": 2
}
